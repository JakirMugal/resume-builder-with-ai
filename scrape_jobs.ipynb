{
 "cells": [
  {
   "cell_type": "code",
   "execution_count": null,
   "id": "b6d4896f",
   "metadata": {},
   "outputs": [
    {
     "name": "stdout",
     "output_type": "stream",
     "text": [
      "0 Process location url : https://in.linkedin.com/jobs/view/data-scientist-across-pan-india-at-capgemini-engineering-4228162369?position=1&pageNum=0&refId=wDFkPSjqcm1ew4GQSRyBvQ%3D%3D&trackingId=Mpdp9tqrFJBgjrV0uzvURA%3D%3D\n",
      "data-scientist-across-pan-india-at-capgemini-engineering-4228162369.html already present.....\n",
      "1 Process location url : https://in.linkedin.com/jobs/view/data-scientist-at-recro-4279255194?position=2&pageNum=0&refId=wDFkPSjqcm1ew4GQSRyBvQ%3D%3D&trackingId=T8DCqFvVjt2cnQN1qWF3Xw%3D%3D\n",
      "data-scientist-at-recro-4279255194.html already present.....\n"
     ]
    }
   ],
   "source": [
    "import requests\n",
    "from scrapy import Selector\n",
    "import os\n",
    "import json\n",
    "import time\n",
    "def scrape_and_upload(base_path, url,number_of_jobs=2):\n",
    "    response = requests.get(url)\n",
    "    response = Selector(text=response.text)\n",
    "    urls = response.xpath('//a[contains(@class,\"full-link\")]/@href').getall()\n",
    "    time.sleep(5)\n",
    "    html_path = rf\"{base_path}\\job_data\"\n",
    "    meta_path = rf\"{base_path}\\link_path_data.json\"\n",
    "\n",
    "    os.makedirs(html_path, exist_ok=True)\n",
    "    meta={}\n",
    "    if len(url)<=number_of_jobs:\n",
    "        filtered_urls=urls\n",
    "    else:\n",
    "        filtered_urls = urls[:number_of_jobs]\n",
    "    for num,url in enumerate(filtered_urls):\n",
    "        if 'jobs/view' not in url:\n",
    "            continue\n",
    "        print(f\"{num} Process location url : {url}\")\n",
    "        filename = url.split('?')[0].split('/')[-1]+'.html'\n",
    "        full_path = os.path.join(html_path, filename)\n",
    "        meta[filename]={'path':full_path,'link':url}\n",
    "        if os.path.exists(full_path):\n",
    "            print(f\"{filename} already present.....\")\n",
    "            continue\n",
    "        time.sleep(5)\n",
    "        response = requests.get(url)\n",
    "        with open(full_path, 'w', encoding='utf-8') as file:\n",
    "            file.write(response.text)\n",
    "        \n",
    "    with open(meta_path,'w') as file:\n",
    "        file.write(json.dumps(meta))\n",
    "    return {\"html_path\":html_path,\"json_path\":meta_path}\n",
    "# url = \"https://www.linkedin.com/jobs/search?keywords=Data%20Scientist&location=India&geoId=102713980&f_E=3&f_TPR=&f_WT=2&position=1&pageNum=0\"\n",
    "# base_path = r\"E:\\study\\GitHub\\RESUME-BUILDER-WITH-AI/test2\"\n",
    "# scrape_and_upload(url=url,base_path=base_path)\n"
   ]
  },
  {
   "cell_type": "code",
   "execution_count": 4,
   "id": "e97cda58",
   "metadata": {},
   "outputs": [],
   "source": [
    "import requests\n",
    "from scrapy import Selector"
   ]
  },
  {
   "cell_type": "code",
   "execution_count": 2,
   "id": "29bc47d3",
   "metadata": {},
   "outputs": [],
   "source": [
    "response= requests.get('https://www.linkedin.com/jobs/search?keywords=Data%20Scientist&location=India&geoId=102713980&f_E=3&f_TPR=&f_WT=2&position=1&pageNum=0')"
   ]
  },
  {
   "cell_type": "code",
   "execution_count": 5,
   "id": "4b63f80d",
   "metadata": {},
   "outputs": [],
   "source": [
    "response = Selector(text=response.text)"
   ]
  },
  {
   "cell_type": "code",
   "execution_count": 7,
   "id": "5d41af52",
   "metadata": {},
   "outputs": [],
   "source": [
    "urls = response.xpath('//a[contains(@class,\"full-link\")]/@href').getall()"
   ]
  },
  {
   "cell_type": "code",
   "execution_count": 9,
   "id": "a3072883",
   "metadata": {},
   "outputs": [],
   "source": [
    "res = requests.get(urls[0])"
   ]
  },
  {
   "cell_type": "code",
   "execution_count": 11,
   "id": "a67572d0",
   "metadata": {},
   "outputs": [],
   "source": [
    "selector = Selector(text=res.text)"
   ]
  },
  {
   "cell_type": "code",
   "execution_count": 12,
   "id": "bed07774",
   "metadata": {},
   "outputs": [
    {
     "data": {
      "text/plain": [
       "'\\n        \\n    \\n    \\n    \\n\\n    \\n\\n        \\n\\n          \\nPosition Title: Data Scientist\\nCompany Overview: Capgemini Engineering is a global leader in engineering services, bringing together a worldwide team of engineers, scientists, and architects to assist the most innovative companies in unleashing their potential.\\nPosition Overview: We are seeking a skilled Data Scientist with expertise in Cognite Data Fusion, data modelling, Unified Namespace (UNS), ontologies, and the identification of data products and datasets. The ideal candidate will have a strong background in developing and implementing data science projects, analyzing large and complex data sets, and driving data-driven decision-making across the organization\\nKey Responsibilities:\\nSolution Development: Design, implement, and deploy scalable data solutions utilizing Cognite Data Fusion, focusing on data modeling, UNS, and ontologies to address industry-specific challenges.\\u200b\\nData Analysis: Analyze large and complex data sets to identify trends, insights, and opportunities, supporting solution development and business strategies.\\u200b\\nCollaboration: Collaborate with cross-functional teams to understand data needs and translate them into data science solutions, ensuring seamless integration and operationalization of digital solutions across various domains.\\nClient Engagement: Engage with clients to understand their business objectives, lead discovery workshops, and provide expert guidance on data-driven strategies and potential challenges.\\u200b\\nVisualization: Develop dashboards and visualizations using tools such as Power BI, Grafana, or web development frameworks like Plotly Dash and Streamlit to effectively communicate data insights.\\u200b\\nMentorship: Provide guidance and mentorship to junior team members, promoting best practices in data science and software development.\\u200b\\nQualifications:\\nEducational Background: Master’s or PhD degree in a quantitative field.\\u200b\\nExperience: Minimum of 2 years of experience in data science, with a strong background in developing analytical solutions within domains such as pharma, oil and gas, manufacturing, or power & utilities.\\u200b\\nTechnical Skills: Proficiency in Python and its data ecosystem (pandas, numpy), machine learning libraries (scikit-learn, keras), and experience with SQL.\\u200b\\nVisualization Tools: Experience with data visualization tools like Power BI, Grafana, Tableau, or web development frameworks such as Plotly Dash and Streamlit.\\u200b\\nSoftware Practices: Strong understanding of software development practices, including version control (e.g., Git), automated testing, and documentation.\\u200b\\nCloud Platforms: Experience with cloud services such as GCP, Azure, or AWS is advantageous.\\u200b\\nDomain Knowledge: Familiarity with industrial data management concepts, including Unified Namespace (UNS), ontologies, and data product identification.\\u200b\\nCommunication Skills: Excellent communication and collaboration skills, with the ability to work with cross-functional teams and stakeholders.\\u200b\\nLeadership: Demonstrated ability to lead projects and mentor junior team members.\\u200b\\nPreferred Qualifications:\\nIndustry Expertise: Experience serving as a domain expert on internal or customer projects within relevant industries.\\u200b\\nCloud Deployment: Experience deploying models and solutions in production environments using cloud infrastructure.\\u200b\\nContinuous Learning: Willingness to stay updated with the latest developments in data science and related technologies.\\u200b\\n\\n        \\n\\n\\n        \\n\\n    \\n    \\n    \\n\\n    \\n\\n\\n\\n        \\n            Show more\\n          \\n\\n          \\n\\n    \\n\\n  \\n\\n        \\n\\n    \\n    \\n    \\n\\n    \\n\\n\\n\\n        \\n            Show less\\n          \\n\\n          \\n\\n    \\n\\n  \\n\\n    \\n\\n  \\n      '"
      ]
     },
     "execution_count": 12,
     "metadata": {},
     "output_type": "execute_result"
    }
   ],
   "source": [
    "'\\n'.join(selector.xpath('//div[contains(@class,\"description\")]//text()').getall())"
   ]
  }
 ],
 "metadata": {
  "kernelspec": {
   "display_name": "venv",
   "language": "python",
   "name": "python3"
  },
  "language_info": {
   "codemirror_mode": {
    "name": "ipython",
    "version": 3
   },
   "file_extension": ".py",
   "mimetype": "text/x-python",
   "name": "python",
   "nbconvert_exporter": "python",
   "pygments_lexer": "ipython3",
   "version": "3.13.5"
  }
 },
 "nbformat": 4,
 "nbformat_minor": 5
}

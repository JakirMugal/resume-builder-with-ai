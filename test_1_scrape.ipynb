{
 "cells": [
  {
   "cell_type": "code",
   "execution_count": 4,
   "id": "fb57ad06",
   "metadata": {},
   "outputs": [],
   "source": [
    "import requests"
   ]
  },
  {
   "cell_type": "code",
   "execution_count": null,
   "id": "b6d4896f",
   "metadata": {},
   "outputs": [],
   "source": [
    "import selenium.webdriver as wd\n",
    "import time\n",
    "from selenium.webdriver.common.by import By\n",
    "from selenium.webdriver.chrome.service import Service\n",
    "import os\n",
    "from selenium.webdriver.common.action_chains import ActionChains\n",
    "\n",
    "PATH=r\"E:\\study\\GitHub\\RESUME-BUILDER-WITH-AI\\common_lib\\chromedriver.exe\"\n",
    "service = Service(executable_path=PATH)\n",
    "driver=wd.Chrome(service=service)\n",
    "driver.get(\"https://www.linkedin.com/jobs/search?keywords=Data%20Scientist&location=India&geoId=102713980&f_E=3&f_TPR=&f_WT=2&position=1&pageNum=0\")\n"
   ]
  },
  {
   "cell_type": "code",
   "execution_count": 17,
   "id": "5e364b81",
   "metadata": {},
   "outputs": [],
   "source": [
    "driver.get(\"https://www.linkedin.com/jobs/search?keywords=Data%20Scientist&location=India&geoId=102713980&f_E=3&f_TPR=&f_WT=2&position=1&pageNum=0\")"
   ]
  },
  {
   "cell_type": "code",
   "execution_count": null,
   "id": "a8f17362",
   "metadata": {},
   "outputs": [],
   "source": [
    "\n",
    "\n",
    "actions = ActionChains(driver)\n",
    "actions.move_by_offset(50, 50).click().perform()"
   ]
  },
  {
   "cell_type": "code",
   "execution_count": 19,
   "id": "dd6d5bb3",
   "metadata": {},
   "outputs": [
    {
     "data": {
      "text/plain": [
       "['https://in.linkedin.com/jobs/view/data-scientist-across-pan-india-at-capgemini-engineering-4228162369?position=1&pageNum=0&refId=tcDbofnPqehtertgHrsbcA%3D%3D&trackingId=pN3IFIPckzeV%2FceQNuejIg%3D%3D',\n",
       " 'https://in.linkedin.com/jobs/view/data-scientist-at-valiance-solutions-4075570637?position=2&pageNum=0&refId=tcDbofnPqehtertgHrsbcA%3D%3D&trackingId=wMXD7VC35DV1ymd4mc1h9g%3D%3D',\n",
       " 'https://in.linkedin.com/jobs/view/data-scientist-at-dexian-india-4264355859?position=3&pageNum=0&refId=tcDbofnPqehtertgHrsbcA%3D%3D&trackingId=RJkYn%2FKWnYtFcfNYfhuncQ%3D%3D',\n",
       " 'https://in.linkedin.com/jobs/view/data-scientist-risk-strategy-sme-at-blucognition-4172315084?position=4&pageNum=0&refId=tcDbofnPqehtertgHrsbcA%3D%3D&trackingId=wERIJCJo7OiBFie9ZaG3aA%3D%3D',\n",
       " 'https://in.linkedin.com/jobs/view/data-scientist-at-recro-4271310370?position=5&pageNum=0&refId=tcDbofnPqehtertgHrsbcA%3D%3D&trackingId=XbLkizqH5HWF6Rnzl48UoQ%3D%3D',\n",
       " 'https://in.linkedin.com/jobs/view/machine-learning-engineer-at-interview-kickstart-4267255580?position=6&pageNum=0&refId=tcDbofnPqehtertgHrsbcA%3D%3D&trackingId=1DLmENbV2oVJLlUJbnmypw%3D%3D',\n",
       " 'https://in.linkedin.com/jobs/view/research-scientist-%E2%80%93-ai-ml-at-ascendeum-4265400511?position=7&pageNum=0&refId=tcDbofnPqehtertgHrsbcA%3D%3D&trackingId=kcO%2B11MswX1uOqP4WyEBXg%3D%3D',\n",
       " 'https://in.linkedin.com/jobs/view/data-scientist-people-analytics-at-motive-4257177833?position=8&pageNum=0&refId=tcDbofnPqehtertgHrsbcA%3D%3D&trackingId=dVCnzTcmaV7uzzb9VNgEEQ%3D%3D',\n",
       " 'https://in.linkedin.com/jobs/view/ai-engineer-at-idea-elan-4259182911?position=9&pageNum=0&refId=tcDbofnPqehtertgHrsbcA%3D%3D&trackingId=8eVTdedOCR9o52P4rlfy9g%3D%3D',\n",
       " 'https://in.linkedin.com/jobs/view/machine-learning-engineer-5-yrs-at-orbion-infotech-4271578510?position=10&pageNum=0&refId=tcDbofnPqehtertgHrsbcA%3D%3D&trackingId=dXiPqk3bnHjYSn0dMYPMYw%3D%3D',\n",
       " 'https://in.linkedin.com/jobs/view/ai-developer-at-idea-usher-4174278261?position=11&pageNum=0&refId=tcDbofnPqehtertgHrsbcA%3D%3D&trackingId=iuTDcAIHC3sUszpos1QePg%3D%3D',\n",
       " 'https://in.linkedin.com/jobs/view/senior-data-scientist-at-recro-4271586232?position=12&pageNum=0&refId=tcDbofnPqehtertgHrsbcA%3D%3D&trackingId=QJz4bccmT0VujzZp4U5ICA%3D%3D',\n",
       " 'https://in.linkedin.com/jobs/view/data-science-machine-learning-trainer-at-nxtwave-4269444170?position=13&pageNum=0&refId=tcDbofnPqehtertgHrsbcA%3D%3D&trackingId=S4bH5FhsOIr5%2B%2BWAhR99XA%3D%3D',\n",
       " 'https://in.linkedin.com/jobs/view/learning-support-specialist-ml-ai-data-science-and-data-engineering-at-emeritus-4259404928?position=14&pageNum=0&refId=tcDbofnPqehtertgHrsbcA%3D%3D&trackingId=T7c3GrKUfrvVimDO4ftVlw%3D%3D',\n",
       " 'https://in.linkedin.com/jobs/view/python-developer-sde-2-at-greythr-4264074519?position=15&pageNum=0&refId=tcDbofnPqehtertgHrsbcA%3D%3D&trackingId=gyZc6CBrkNasn7wo97qsdQ%3D%3D',\n",
       " 'https://in.linkedin.com/jobs/view/associate-data-scientist-at-ascendeum-4265405159?position=16&pageNum=0&refId=tcDbofnPqehtertgHrsbcA%3D%3D&trackingId=8AfDO0jsRQaEeafrWnar9w%3D%3D',\n",
       " 'https://in.linkedin.com/jobs/view/machine-learning-engineer-at-goml-4271473779?position=17&pageNum=0&refId=tcDbofnPqehtertgHrsbcA%3D%3D&trackingId=1U4g4ZEHwQGzrBf3R%2F3LYg%3D%3D',\n",
       " 'https://in.linkedin.com/jobs/view/ai-developer-at-elegant-enterprise-wide-solutions-inc-4263507628?position=18&pageNum=0&refId=tcDbofnPqehtertgHrsbcA%3D%3D&trackingId=3Gk8IRQMA7cfLNP%2B9iG5DA%3D%3D',\n",
       " 'https://in.linkedin.com/jobs/view/artificial-intelligence-engineer-at-hyqoo-4264456976?position=19&pageNum=0&refId=tcDbofnPqehtertgHrsbcA%3D%3D&trackingId=3ocCCz3CS1iTYJgAfzoULQ%3D%3D',\n",
       " 'https://in.linkedin.com/jobs/view/python-developer-remote-at-altraize-4177412286?position=20&pageNum=0&refId=tcDbofnPqehtertgHrsbcA%3D%3D&trackingId=rM%2BBC3kPcohWkSq1442NEA%3D%3D',\n",
       " 'https://in.linkedin.com/jobs/view/graphdb%2Bpython-developer-at-bounteous-4260864622?position=21&pageNum=0&refId=tcDbofnPqehtertgHrsbcA%3D%3D&trackingId=1Ik4EaCf%2BcJ%2FyDA3XCIdhw%3D%3D',\n",
       " 'https://in.linkedin.com/jobs/view/data-analyst-data-scientist-at-weekday-ai-yc-w21-4264836804?position=22&pageNum=0&refId=tcDbofnPqehtertgHrsbcA%3D%3D&trackingId=fhPi9ClfOGAo%2FmQXD7gqFQ%3D%3D',\n",
       " 'https://in.linkedin.com/jobs/view/software-engineer-python-react-at-dexian-india-4273061347?position=23&pageNum=0&refId=tcDbofnPqehtertgHrsbcA%3D%3D&trackingId=KszbOcj8YHLGsF454bNQ3Q%3D%3D',\n",
       " 'https://in.linkedin.com/jobs/view/python-developer-at-onefin-4257193441?position=24&pageNum=0&refId=tcDbofnPqehtertgHrsbcA%3D%3D&trackingId=%2BKBvZPNb4l2seAOByI3a6A%3D%3D',\n",
       " 'https://in.linkedin.com/jobs/view/executive-data-scientist-at-ascendeum-4273408579?position=25&pageNum=0&refId=tcDbofnPqehtertgHrsbcA%3D%3D&trackingId=0E0qhcYMWaVR0khrl%2BkAwA%3D%3D',\n",
       " 'https://in.linkedin.com/jobs/view/python-developer-at-people-prime-worldwide-4273056363?position=26&pageNum=0&refId=tcDbofnPqehtertgHrsbcA%3D%3D&trackingId=w3L6r%2FN%2FjU3Pj0j5FSWuhg%3D%3D',\n",
       " 'https://in.linkedin.com/jobs/view/applied-ai-engineer-india-remote-at-wixjob-4270060681?position=27&pageNum=0&refId=tcDbofnPqehtertgHrsbcA%3D%3D&trackingId=xvYoSeQbPnOZoop%2BlPFgcg%3D%3D',\n",
       " 'https://in.linkedin.com/jobs/view/machine-learning-researcher-at-ascendeum-4273411453?position=28&pageNum=0&refId=tcDbofnPqehtertgHrsbcA%3D%3D&trackingId=GhcpQ7EbaVQpMzQcWfeyVw%3D%3D',\n",
       " 'https://in.linkedin.com/jobs/view/front-end-developers-ai-training-remote-at-braintrust-4220208768?position=29&pageNum=0&refId=tcDbofnPqehtertgHrsbcA%3D%3D&trackingId=SMotqjtuxiCZ08S27ITM%2BA%3D%3D',\n",
       " 'https://in.linkedin.com/jobs/view/python-full-stack-developer-at-altraize-4177184412?position=30&pageNum=0&refId=tcDbofnPqehtertgHrsbcA%3D%3D&trackingId=P9nnN0KEvLO0lBcM%2BLs%2FpQ%3D%3D',\n",
       " 'https://in.linkedin.com/jobs/view/python-fullstack-developer-at-awign-4271810088?position=31&pageNum=0&refId=tcDbofnPqehtertgHrsbcA%3D%3D&trackingId=thnI5RaJ8M851VmgySmOYA%3D%3D',\n",
       " 'https://in.linkedin.com/jobs/view/software-engineer-machine-learning-at-motive-4264402019?position=32&pageNum=0&refId=tcDbofnPqehtertgHrsbcA%3D%3D&trackingId=uxrT34ltvG1BZln84wveeg%3D%3D',\n",
       " 'https://in.linkedin.com/jobs/view/software-engineer-machine-learning-at-motive-4268347933?position=33&pageNum=0&refId=tcDbofnPqehtertgHrsbcA%3D%3D&trackingId=%2FW5jl%2Fdq5bcy7HHVpD9nvw%3D%3D',\n",
       " 'https://in.linkedin.com/jobs/view/senior-machine-learning-engineer-at-goml-4273601599?position=34&pageNum=0&refId=tcDbofnPqehtertgHrsbcA%3D%3D&trackingId=FBLSgCw4ZmYl2dyyvWwLpQ%3D%3D',\n",
       " 'https://in.linkedin.com/jobs/view/data-scientist-i-at-agco-corporation-4205966935?position=35&pageNum=0&refId=tcDbofnPqehtertgHrsbcA%3D%3D&trackingId=dBi%2FUjUvKCf55dcfADaadQ%3D%3D',\n",
       " 'https://in.linkedin.com/jobs/view/quality-assurance-automation-engineer-at-recro-4263348668?position=36&pageNum=0&refId=tcDbofnPqehtertgHrsbcA%3D%3D&trackingId=oqPh93xIDTdo%2FuHRSXNfOQ%3D%3D',\n",
       " 'https://in.linkedin.com/jobs/view/swift-coders-ai-training-remote-at-braintrust-4233232867?position=37&pageNum=0&refId=tcDbofnPqehtertgHrsbcA%3D%3D&trackingId=Q19eFRbM5WnFA8x8AP63wg%3D%3D',\n",
       " 'https://in.linkedin.com/jobs/view/swift-coders-ai-training-remote-hindi-speakers-encouraged-at-braintrust-4233242911?position=38&pageNum=0&refId=tcDbofnPqehtertgHrsbcA%3D%3D&trackingId=EtAvL9cqo1%2FW1aQQ2EierQ%3D%3D',\n",
       " 'https://in.linkedin.com/jobs/view/senior-python-software-engineer-voice-ai-at-checkmate-4267059360?position=39&pageNum=0&refId=tcDbofnPqehtertgHrsbcA%3D%3D&trackingId=EgXz%2BfZPNQR6UWLqUwUahw%3D%3D',\n",
       " 'https://in.linkedin.com/jobs/view/backend-developer-python-intern-at-shiryam-technologies-4257190806?position=40&pageNum=0&refId=tcDbofnPqehtertgHrsbcA%3D%3D&trackingId=O7m4w71i25PaTVCp%2FgBkPg%3D%3D',\n",
       " 'https://in.linkedin.com/jobs/view/react-native-developer-at-recro-4257568639?position=41&pageNum=0&refId=tcDbofnPqehtertgHrsbcA%3D%3D&trackingId=bj%2FZxcm4JuqjEESUnxv0Mw%3D%3D',\n",
       " 'https://in.linkedin.com/jobs/view/frontend-developer-at-recro-4257568561?position=42&pageNum=0&refId=tcDbofnPqehtertgHrsbcA%3D%3D&trackingId=nnUJCdwbGlqME8%2B5WxwuyQ%3D%3D',\n",
       " 'https://in.linkedin.com/jobs/view/frontend-developer-at-recro-4257563854?position=43&pageNum=0&refId=tcDbofnPqehtertgHrsbcA%3D%3D&trackingId=U9mbct2LC85nW%2B5rcMzFlg%3D%3D',\n",
       " 'https://in.linkedin.com/jobs/view/software-engineer-in-test-i-at-quartic-ai-4259552527?position=44&pageNum=0&refId=tcDbofnPqehtertgHrsbcA%3D%3D&trackingId=1%2BuohBudLJk3c35OkzgNsA%3D%3D',\n",
       " 'https://in.linkedin.com/jobs/view/application-engineer-at-vericut-4268459061?position=45&pageNum=0&refId=tcDbofnPqehtertgHrsbcA%3D%3D&trackingId=9kAE3rd7ot7Ef0UthQlxfQ%3D%3D',\n",
       " 'https://in.linkedin.com/jobs/view/platform-engineer-at-niksun-4255561683?position=46&pageNum=0&refId=tcDbofnPqehtertgHrsbcA%3D%3D&trackingId=7ihDhcf7b%2BuziZvmPDrBiw%3D%3D',\n",
       " 'https://in.linkedin.com/jobs/view/junior-developer-at-live-connections-4270262908?position=47&pageNum=0&refId=tcDbofnPqehtertgHrsbcA%3D%3D&trackingId=UczzPQu%2BBKrm875kMBUKCQ%3D%3D',\n",
       " 'https://in.linkedin.com/jobs/view/founding-engineer-at-weekday-ai-yc-w21-4266732348?position=48&pageNum=0&refId=tcDbofnPqehtertgHrsbcA%3D%3D&trackingId=auve01c6%2BosLN05ZG4tzdw%3D%3D',\n",
       " 'https://in.linkedin.com/jobs/view/data-engineer-web-scraping-at-alternative-path-4268965583?position=49&pageNum=0&refId=tcDbofnPqehtertgHrsbcA%3D%3D&trackingId=h%2F62MwYOeCpTGKozaMpi2Q%3D%3D',\n",
       " 'https://in.linkedin.com/jobs/view/react-native-developer-at-vayuz-technologies-4148628204?position=50&pageNum=0&refId=tcDbofnPqehtertgHrsbcA%3D%3D&trackingId=uoBlLEXK5diOn9yF8GM%2FJQ%3D%3D',\n",
       " 'https://in.linkedin.com/jobs/view/simulation-triage-engineer-at-imerit-technology-4267949310?position=51&pageNum=0&refId=tcDbofnPqehtertgHrsbcA%3D%3D&trackingId=dUno7oKyI0%2BuF7J5SDaoAg%3D%3D',\n",
       " 'https://in.linkedin.com/jobs/view/sde-3-backend-engineer-at-weekday-ai-yc-w21-4270632427?position=52&pageNum=0&refId=tcDbofnPqehtertgHrsbcA%3D%3D&trackingId=t1bOKAX4CELA4qqjnYzIaQ%3D%3D',\n",
       " 'https://in.linkedin.com/jobs/view/software-engineering-specialist-human-data-at-xai-4262541457?position=53&pageNum=0&refId=tcDbofnPqehtertgHrsbcA%3D%3D&trackingId=fuKxahqRI3VtMMJ3u48pKg%3D%3D',\n",
       " 'https://in.linkedin.com/jobs/view/automation-developer-at-begig-4269632259?position=54&pageNum=0&refId=tcDbofnPqehtertgHrsbcA%3D%3D&trackingId=2D5PVRm8fz0rnHHDgzk%2BUQ%3D%3D',\n",
       " 'https://in.linkedin.com/jobs/view/software-engineer-backend-development-at-smallcase-4267667521?position=55&pageNum=0&refId=tcDbofnPqehtertgHrsbcA%3D%3D&trackingId=NoJF33hOp1KAqR4SF9YKoA%3D%3D',\n",
       " 'https://in.linkedin.com/jobs/view/mel-specialist-remote-8-lpa-at-job-express-4258644795?position=56&pageNum=0&refId=tcDbofnPqehtertgHrsbcA%3D%3D&trackingId=rVlG7%2BHmQJM973CLT98LjA%3D%3D',\n",
       " 'https://in.linkedin.com/jobs/view/software-engineer-at-schedley-com-4271146349?position=57&pageNum=0&refId=tcDbofnPqehtertgHrsbcA%3D%3D&trackingId=Yias%2F7iHZqsQdq0E74pLNg%3D%3D',\n",
       " 'https://in.linkedin.com/jobs/view/reactjs-developer-at-kopykitab-digibook-technologies-pvt-ltd-4257190810?position=58&pageNum=0&refId=tcDbofnPqehtertgHrsbcA%3D%3D&trackingId=zos%2Fp4h%2BVh95ofewkkKMpg%3D%3D',\n",
       " 'https://in.linkedin.com/jobs/view/senior-ai-engineer-at-contractpodai-4266246290?position=59&pageNum=0&refId=tcDbofnPqehtertgHrsbcA%3D%3D&trackingId=96eEFCc1gfjrAsl853qPGQ%3D%3D']"
      ]
     },
     "execution_count": 19,
     "metadata": {},
     "output_type": "execute_result"
    }
   ],
   "source": [
    "urls_ele = driver.find_elements(By.XPATH,'//a[contains(@class,\"full-link\")]')\n",
    "urls = [url.get_attribute('href') for url in urls_ele]\n",
    "urls"
   ]
  }
 ],
 "metadata": {
  "kernelspec": {
   "display_name": "venv",
   "language": "python",
   "name": "python3"
  },
  "language_info": {
   "codemirror_mode": {
    "name": "ipython",
    "version": 3
   },
   "file_extension": ".py",
   "mimetype": "text/x-python",
   "name": "python",
   "nbconvert_exporter": "python",
   "pygments_lexer": "ipython3",
   "version": "3.13.5"
  }
 },
 "nbformat": 4,
 "nbformat_minor": 5
}
